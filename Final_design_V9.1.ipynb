{
 "cells": [
  {
   "cell_type": "code",
   "execution_count": 7,
   "id": "07df24f1-4371-4d71-8981-23183d52b3e7",
   "metadata": {},
   "outputs": [
    {
     "data": {
      "text/plain": [
       "'three_shapes_with_ground_pad.gds'"
      ]
     },
     "execution_count": 7,
     "metadata": {},
     "output_type": "execute_result"
    }
   ],
   "source": [
    "import phidl.geometry as pg\n",
    "from phidl import Device, quickplot as qp\n",
    "\n",
    "D = Device()\n",
    "s = D << pg.snspd_expanded(layer = 0).rotate(-90)\n",
    "contact_pad = D << pg.compass(size = (10,10), layer = 1)\n",
    "ground_pad = D << pg.compass(size = (10,10), layer = 50)\n",
    "contact_pad.connect('S',s.ports[1])\n",
    "ground_pad.connect('N',s.ports[2])\n",
    "\n",
    "Structures = Device()\n",
    "s1 = Structures << shape_with_ground_pad()\n",
    "s2 = Structures << shape_with_ground_pad()\n",
    "s3 = Structures << shape_with_ground_pad()\n",
    "group = s1 + s2 + s3\n",
    "group.distribute(direction = 'x', spacing = 10)\n",
    "\n",
    "#qp(three_shapes_with_ground_pad())\n",
    "D.write_gds('three_shapes_with_ground_pad.gds')"
   ]
  },
  {
   "cell_type": "code",
   "execution_count": 3,
   "id": "e2fc70d0-10db-4f91-8e72-6c74101b338d",
   "metadata": {},
   "outputs": [
    {
     "ename": "TypeError",
     "evalue": "[PHIDL] add_ref() was passed something that\n            was not a Device object. ",
     "output_type": "error",
     "traceback": [
      "\u001b[1;31m---------------------------------------------------------------------------\u001b[0m",
      "\u001b[1;31mTypeError\u001b[0m                                 Traceback (most recent call last)",
      "Cell \u001b[1;32mIn[3], line 16\u001b[0m\n\u001b[0;32m     13\u001b[0m ground_pad\u001b[38;5;241m.\u001b[39mconnect(\u001b[38;5;124m'\u001b[39m\u001b[38;5;124mN\u001b[39m\u001b[38;5;124m'\u001b[39m, s\u001b[38;5;241m.\u001b[39mports[\u001b[38;5;241m2\u001b[39m])\n\u001b[0;32m     15\u001b[0m Structures \u001b[38;5;241m=\u001b[39m Device()\n\u001b[1;32m---> 16\u001b[0m s1 \u001b[38;5;241m=\u001b[39m Structures \u001b[38;5;241m<<\u001b[39m shape_with_ground_pad()\n\u001b[0;32m     17\u001b[0m s2 \u001b[38;5;241m=\u001b[39m Structures \u001b[38;5;241m<<\u001b[39m shape_with_ground_pad()\n\u001b[0;32m     18\u001b[0m s3 \u001b[38;5;241m=\u001b[39m Structures \u001b[38;5;241m<<\u001b[39m shape_with_ground_pad()\n",
      "File \u001b[1;32mC:\\ProgramData\\anaconda3\\Lib\\site-packages\\phidl\\device_layout.py:1112\u001b[0m, in \u001b[0;36mDevice.__lshift__\u001b[1;34m(self, element)\u001b[0m\n\u001b[0;32m   1104\u001b[0m \u001b[38;5;28;01mdef\u001b[39;00m \u001b[38;5;21m__lshift__\u001b[39m(\u001b[38;5;28mself\u001b[39m, element):\n\u001b[0;32m   1105\u001b[0m \u001b[38;5;250m    \u001b[39m\u001b[38;5;124;03m\"\"\"Convenience operators equivalent to add_ref()\u001b[39;00m\n\u001b[0;32m   1106\u001b[0m \n\u001b[0;32m   1107\u001b[0m \u001b[38;5;124;03m    Parameters\u001b[39;00m\n\u001b[1;32m   (...)\u001b[0m\n\u001b[0;32m   1110\u001b[0m \u001b[38;5;124;03m        Element to reference\u001b[39;00m\n\u001b[0;32m   1111\u001b[0m \u001b[38;5;124;03m    \"\"\"\u001b[39;00m\n\u001b[1;32m-> 1112\u001b[0m     \u001b[38;5;28;01mreturn\u001b[39;00m \u001b[38;5;28mself\u001b[39m\u001b[38;5;241m.\u001b[39madd_ref(element)\n",
      "File \u001b[1;32mC:\\ProgramData\\anaconda3\\Lib\\site-packages\\phidl\\device_layout.py:1178\u001b[0m, in \u001b[0;36mDevice.add_ref\u001b[1;34m(self, device, alias)\u001b[0m\n\u001b[0;32m   1176\u001b[0m     \u001b[38;5;28;01mreturn\u001b[39;00m [\u001b[38;5;28mself\u001b[39m\u001b[38;5;241m.\u001b[39madd_ref(E) \u001b[38;5;28;01mfor\u001b[39;00m E \u001b[38;5;129;01min\u001b[39;00m device]\n\u001b[0;32m   1177\u001b[0m \u001b[38;5;28;01mif\u001b[39;00m \u001b[38;5;129;01mnot\u001b[39;00m \u001b[38;5;28misinstance\u001b[39m(device, Device):\n\u001b[1;32m-> 1178\u001b[0m     \u001b[38;5;28;01mraise\u001b[39;00m \u001b[38;5;167;01mTypeError\u001b[39;00m(\n\u001b[0;32m   1179\u001b[0m \u001b[38;5;250m        \u001b[39m\u001b[38;5;124;03m\"\"\"[PHIDL] add_ref() was passed something that\u001b[39;00m\n\u001b[0;32m   1180\u001b[0m \u001b[38;5;124;03m    was not a Device object. \"\"\"\u001b[39;00m\n\u001b[0;32m   1181\u001b[0m     )\n\u001b[0;32m   1182\u001b[0m d \u001b[38;5;241m=\u001b[39m DeviceReference(device)  \u001b[38;5;66;03m# Create a DeviceReference (CellReference)\u001b[39;00m\n\u001b[0;32m   1183\u001b[0m d\u001b[38;5;241m.\u001b[39mowner \u001b[38;5;241m=\u001b[39m \u001b[38;5;28mself\u001b[39m\n",
      "\u001b[1;31mTypeError\u001b[0m: [PHIDL] add_ref() was passed something that\n            was not a Device object. "
     ]
    }
   ],
   "source": [
    "import phidl.geometry as pg\n",
    "from phidl import Device, quickplot as qp\n",
    "\n",
    "def shape_with_ground_pad():\n",
    "    # Define your shape with ground pad here\n",
    "    pass\n",
    "\n",
    "D = Device()\n",
    "s = D << pg.snspd_expanded(layer=0).rotate(-90)\n",
    "contact_pad = D << pg.compass(size=(10, 10), layer=1)\n",
    "ground_pad = D << pg.compass(size=(10, 10), layer=50)\n",
    "contact_pad.connect('S', s.ports[1])\n",
    "ground_pad.connect('N', s.ports[2])\n",
    "\n",
    "Structures = Device()\n",
    "s1 = Structures << shape_with_ground_pad()\n",
    "s2 = Structures << shape_with_ground_pad()\n",
    "s3 = Structures << shape_with_ground_pad()\n",
    "group = s1 + s2 + s3\n",
    "group.distribute(direction='x', spacing=10)\n",
    "\n",
    "qp(Structures)  # Plot the 'Structures' device\n"
   ]
  },
  {
   "cell_type": "code",
   "execution_count": 4,
   "id": "f8002a62-e8f3-43db-a88e-de724e93626a",
   "metadata": {},
   "outputs": [
    {
     "ename": "TypeError",
     "evalue": "[PHIDL] add_ref() was passed something that\n            was not a Device object. ",
     "output_type": "error",
     "traceback": [
      "\u001b[1;31m---------------------------------------------------------------------------\u001b[0m",
      "\u001b[1;31mTypeError\u001b[0m                                 Traceback (most recent call last)",
      "Cell \u001b[1;32mIn[4], line 16\u001b[0m\n\u001b[0;32m     13\u001b[0m ground_pad\u001b[38;5;241m.\u001b[39mconnect(port\u001b[38;5;241m=\u001b[39m\u001b[38;5;124m\"\u001b[39m\u001b[38;5;124mN\u001b[39m\u001b[38;5;124m\"\u001b[39m, destination\u001b[38;5;241m=\u001b[39ms\u001b[38;5;241m.\u001b[39mports[\u001b[38;5;241m2\u001b[39m])\n\u001b[0;32m     15\u001b[0m Structures \u001b[38;5;241m=\u001b[39m Device()\n\u001b[1;32m---> 16\u001b[0m s1 \u001b[38;5;241m=\u001b[39m Structures\u001b[38;5;241m.\u001b[39madd_ref(shape_with_ground_pad())\n\u001b[0;32m     17\u001b[0m s2 \u001b[38;5;241m=\u001b[39m Structures\u001b[38;5;241m.\u001b[39madd_ref(shape_with_ground_pad())\n\u001b[0;32m     18\u001b[0m s3 \u001b[38;5;241m=\u001b[39m Structures\u001b[38;5;241m.\u001b[39madd_ref(shape_with_ground_pad())\n",
      "File \u001b[1;32mC:\\ProgramData\\anaconda3\\Lib\\site-packages\\phidl\\device_layout.py:1178\u001b[0m, in \u001b[0;36mDevice.add_ref\u001b[1;34m(self, device, alias)\u001b[0m\n\u001b[0;32m   1176\u001b[0m     \u001b[38;5;28;01mreturn\u001b[39;00m [\u001b[38;5;28mself\u001b[39m\u001b[38;5;241m.\u001b[39madd_ref(E) \u001b[38;5;28;01mfor\u001b[39;00m E \u001b[38;5;129;01min\u001b[39;00m device]\n\u001b[0;32m   1177\u001b[0m \u001b[38;5;28;01mif\u001b[39;00m \u001b[38;5;129;01mnot\u001b[39;00m \u001b[38;5;28misinstance\u001b[39m(device, Device):\n\u001b[1;32m-> 1178\u001b[0m     \u001b[38;5;28;01mraise\u001b[39;00m \u001b[38;5;167;01mTypeError\u001b[39;00m(\n\u001b[0;32m   1179\u001b[0m \u001b[38;5;250m        \u001b[39m\u001b[38;5;124;03m\"\"\"[PHIDL] add_ref() was passed something that\u001b[39;00m\n\u001b[0;32m   1180\u001b[0m \u001b[38;5;124;03m    was not a Device object. \"\"\"\u001b[39;00m\n\u001b[0;32m   1181\u001b[0m     )\n\u001b[0;32m   1182\u001b[0m d \u001b[38;5;241m=\u001b[39m DeviceReference(device)  \u001b[38;5;66;03m# Create a DeviceReference (CellReference)\u001b[39;00m\n\u001b[0;32m   1183\u001b[0m d\u001b[38;5;241m.\u001b[39mowner \u001b[38;5;241m=\u001b[39m \u001b[38;5;28mself\u001b[39m\n",
      "\u001b[1;31mTypeError\u001b[0m: [PHIDL] add_ref() was passed something that\n            was not a Device object. "
     ]
    }
   ],
   "source": [
    "import phidl.geometry as pg\n",
    "from phidl import Device, quickplot as qp\n",
    "\n",
    "def shape_with_ground_pad():\n",
    "    # Define your shape with ground pad here\n",
    "    pass\n",
    "\n",
    "D = Device()\n",
    "s = D.add_ref(pg.snspd_expanded(layer=0).rotate(-90))\n",
    "contact_pad = D.add_ref(pg.compass(size=(10, 10), layer=1))\n",
    "ground_pad = D.add_ref(pg.compass(size=(10, 10), layer=50))\n",
    "contact_pad.connect(port=\"S\", destination=s.ports[1])\n",
    "ground_pad.connect(port=\"N\", destination=s.ports[2])\n",
    "\n",
    "Structures = Device()\n",
    "s1 = Structures.add_ref(shape_with_ground_pad())\n",
    "s2 = Structures.add_ref(shape_with_ground_pad())\n",
    "s3 = Structures.add_ref(shape_with_ground_pad())\n",
    "group = [s1, s2, s3]\n",
    "Structures.distribute(elements=group, direction='x', spacing=10)\n",
    "\n",
    "qp(Structures)  # Plot the 'Structures' device\n"
   ]
  },
  {
   "cell_type": "code",
   "execution_count": 5,
   "id": "7d9557c5-fb37-4e7a-aa7d-cc354be600c3",
   "metadata": {},
   "outputs": [
    {
     "data": {
      "image/png": "[encoded data removed]",
      "text/plain": [
       "<Figure size 640x480 with 1 Axes>"
      ]
     },
     "metadata": {},
     "output_type": "display_data"
    }
   ],
   "source": [
    "import phidl.geometry as pg\n",
    "from phidl import Device, quickplot as qp\n",
    "\n",
    "def shape_with_ground_pad():\n",
    "    # Define your shape with ground pad here\n",
    "    # Example:\n",
    "    shape = Device()\n",
    "    # Add your geometry to the 'shape' Device\n",
    "    return shape\n",
    "\n",
    "D = Device()\n",
    "s = D.add_ref(pg.snspd_expanded(layer=0).rotate(-90))\n",
    "contact_pad = D.add_ref(pg.compass(size=(10, 10), layer=1))\n",
    "ground_pad = D.add_ref(pg.compass(size=(10, 10), layer=50))\n",
    "contact_pad.connect(port=\"S\", destination=s.ports[1])\n",
    "ground_pad.connect(port=\"N\", destination=s.ports[2])\n",
    "\n",
    "Structures = Device()\n",
    "s1 = Structures.add_ref(shape_with_ground_pad())\n",
    "s2 = Structures.add_ref(shape_with_ground_pad())\n",
    "s3 = Structures.add_ref(shape_with_ground_pad())\n",
    "group = [s1, s2, s3]\n",
    "Structures.distribute(elements=group, direction='x', spacing=10)\n",
    "\n",
    "qp(Structures)  # Plot the 'Structures' device\n"
   ]
  },
  {
   "cell_type": "code",
   "execution_count": null,
   "id": "9ed34188-79fb-471a-8e2e-24520cb7b0a4",
   "metadata": {},
   "outputs": [],
   "source": []
  }
 ],
 "metadata": {
  "kernelspec": {
   "display_name": "Python 3 (ipykernel)",
   "language": "python",
   "name": "python3"
  },
  "language_info": {
   "codemirror_mode": {
    "name": "ipython",
    "version": 3
   },
   "file_extension": ".py",
   "mimetype": "text/x-python",
   "name": "python",
   "nbconvert_exporter": "python",
   "pygments_lexer": "ipython3",
   "version": "3.11.7"
  }
 },
 "nbformat": 4,
 "nbformat_minor": 5
}
